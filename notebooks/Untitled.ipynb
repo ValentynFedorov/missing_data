{
 "cells": [
  {
   "cell_type": "code",
   "id": "13e08cac-c7c2-4c3a-8f6e-79ab069ccc73",
   "metadata": {
    "ExecuteTime": {
     "end_time": "2025-01-20T10:46:26.095665Z",
     "start_time": "2025-01-20T10:46:22.203619Z"
    }
   },
   "source": [
    "import pandas as pd\n",
    "import polars as pl\n",
    "from statsmodels.graphics.tukeyplot import results\n",
    "from statsmodels.sandbox.regression.gmm import results_class_dict"
   ],
   "outputs": [],
   "execution_count": 1
  },
  {
   "cell_type": "code",
   "id": "dbdc302a-eec8-4f3e-ba88-9b0bfa1b5c3b",
   "metadata": {
    "ExecuteTime": {
     "end_time": "2025-01-20T10:46:27.897209Z",
     "start_time": "2025-01-20T10:46:26.113187Z"
    }
   },
   "source": [
    "dfpd = pd.read_parquet('yellow_tripdata_2020-01.parquet')"
   ],
   "outputs": [],
   "execution_count": 2
  },
  {
   "cell_type": "code",
   "id": "d311b8df-fe07-43d0-9b86-2039b7d4c1cb",
   "metadata": {
    "ExecuteTime": {
     "end_time": "2025-01-20T10:46:29.128171Z",
     "start_time": "2025-01-20T10:46:28.437038Z"
    }
   },
   "source": [
    "dfpl = pl.read_parquet('yellow_tripdata_2020-01.parquet')"
   ],
   "outputs": [],
   "execution_count": 3
  },
  {
   "cell_type": "code",
   "id": "c3e0f912-f51b-4348-b14b-52b5a31ac2ee",
   "metadata": {
    "ExecuteTime": {
     "end_time": "2025-01-20T10:46:29.242570Z",
     "start_time": "2025-01-20T10:46:29.177273Z"
    }
   },
   "source": [
    "dfpl"
   ],
   "outputs": [
    {
     "data": {
      "text/plain": [
       "shape: (6_405_008, 19)\n",
       "┌──────────┬───────────┬───────────┬───────────┬───┬───────────┬───────────┬───────────┬───────────┐\n",
       "│ VendorID ┆ tpep_pick ┆ tpep_drop ┆ passenger ┆ … ┆ improveme ┆ total_amo ┆ congestio ┆ airport_f │\n",
       "│ ---      ┆ up_dateti ┆ off_datet ┆ _count    ┆   ┆ nt_surcha ┆ unt       ┆ n_surchar ┆ ee        │\n",
       "│ i64      ┆ me        ┆ ime       ┆ ---       ┆   ┆ rge       ┆ ---       ┆ ge        ┆ ---       │\n",
       "│          ┆ ---       ┆ ---       ┆ f64       ┆   ┆ ---       ┆ f64       ┆ ---       ┆ null      │\n",
       "│          ┆ datetime[ ┆ datetime[ ┆           ┆   ┆ f64       ┆           ┆ f64       ┆           │\n",
       "│          ┆ ns]       ┆ ns]       ┆           ┆   ┆           ┆           ┆           ┆           │\n",
       "╞══════════╪═══════════╪═══════════╪═══════════╪═══╪═══════════╪═══════════╪═══════════╪═══════════╡\n",
       "│ 1        ┆ 2020-01-0 ┆ 2020-01-0 ┆ 1.0       ┆ … ┆ 0.3       ┆ 11.27     ┆ 2.5       ┆ null      │\n",
       "│          ┆ 1         ┆ 1         ┆           ┆   ┆           ┆           ┆           ┆           │\n",
       "│          ┆ 00:28:15  ┆ 00:33:03  ┆           ┆   ┆           ┆           ┆           ┆           │\n",
       "│ 1        ┆ 2020-01-0 ┆ 2020-01-0 ┆ 1.0       ┆ … ┆ 0.3       ┆ 12.3      ┆ 2.5       ┆ null      │\n",
       "│          ┆ 1         ┆ 1         ┆           ┆   ┆           ┆           ┆           ┆           │\n",
       "│          ┆ 00:35:39  ┆ 00:43:04  ┆           ┆   ┆           ┆           ┆           ┆           │\n",
       "│ 1        ┆ 2020-01-0 ┆ 2020-01-0 ┆ 1.0       ┆ … ┆ 0.3       ┆ 10.8      ┆ 2.5       ┆ null      │\n",
       "│          ┆ 1         ┆ 1         ┆           ┆   ┆           ┆           ┆           ┆           │\n",
       "│          ┆ 00:47:41  ┆ 00:53:52  ┆           ┆   ┆           ┆           ┆           ┆           │\n",
       "│ 1        ┆ 2020-01-0 ┆ 2020-01-0 ┆ 1.0       ┆ … ┆ 0.3       ┆ 8.16      ┆ 0.0       ┆ null      │\n",
       "│          ┆ 1         ┆ 1         ┆           ┆   ┆           ┆           ┆           ┆           │\n",
       "│          ┆ 00:55:23  ┆ 01:00:14  ┆           ┆   ┆           ┆           ┆           ┆           │\n",
       "│ 2        ┆ 2020-01-0 ┆ 2020-01-0 ┆ 1.0       ┆ … ┆ 0.3       ┆ 4.8       ┆ 0.0       ┆ null      │\n",
       "│          ┆ 1         ┆ 1         ┆           ┆   ┆           ┆           ┆           ┆           │\n",
       "│          ┆ 00:01:58  ┆ 00:04:16  ┆           ┆   ┆           ┆           ┆           ┆           │\n",
       "│ …        ┆ …         ┆ …         ┆ …         ┆ … ┆ …         ┆ …         ┆ …         ┆ …         │\n",
       "│ 2        ┆ 2020-01-3 ┆ 2020-01-3 ┆ null      ┆ … ┆ 0.3       ┆ 55.73     ┆ null      ┆ null      │\n",
       "│          ┆ 1         ┆ 1         ┆           ┆   ┆           ┆           ┆           ┆           │\n",
       "│          ┆ 23:08:00  ┆ 23:34:00  ┆           ┆   ┆           ┆           ┆           ┆           │\n",
       "│ 2        ┆ 2020-01-3 ┆ 2020-01-3 ┆ null      ┆ … ┆ 0.3       ┆ 63.68     ┆ null      ┆ null      │\n",
       "│          ┆ 1         ┆ 1         ┆           ┆   ┆           ┆           ┆           ┆           │\n",
       "│          ┆ 23:00:00  ┆ 23:44:00  ┆           ┆   ┆           ┆           ┆           ┆           │\n",
       "│ 2        ┆ 2020-01-3 ┆ 2020-01-3 ┆ null      ┆ … ┆ 0.3       ┆ 47.69     ┆ null      ┆ null      │\n",
       "│          ┆ 1         ┆ 1         ┆           ┆   ┆           ┆           ┆           ┆           │\n",
       "│          ┆ 23:13:00  ┆ 23:38:00  ┆           ┆   ┆           ┆           ┆           ┆           │\n",
       "│ 2        ┆ 2020-01-3 ┆ 2020-01-3 ┆ null      ┆ … ┆ 0.3       ┆ 31.79     ┆ null      ┆ null      │\n",
       "│          ┆ 1         ┆ 1         ┆           ┆   ┆           ┆           ┆           ┆           │\n",
       "│          ┆ 23:02:54  ┆ 23:27:10  ┆           ┆   ┆           ┆           ┆           ┆           │\n",
       "│ 2        ┆ 2020-01-3 ┆ 2020-02-0 ┆ null      ┆ … ┆ 0.3       ┆ 34.36     ┆ null      ┆ null      │\n",
       "│          ┆ 1         ┆ 1         ┆           ┆   ┆           ┆           ┆           ┆           │\n",
       "│          ┆ 23:56:37  ┆ 00:16:35  ┆           ┆   ┆           ┆           ┆           ┆           │\n",
       "└──────────┴───────────┴───────────┴───────────┴───┴───────────┴───────────┴───────────┴───────────┘"
      ],
      "text/html": [
       "<div><style>\n",
       ".dataframe > thead > tr,\n",
       ".dataframe > tbody > tr {\n",
       "  text-align: right;\n",
       "  white-space: pre-wrap;\n",
       "}\n",
       "</style>\n",
       "<small>shape: (6_405_008, 19)</small><table border=\"1\" class=\"dataframe\"><thead><tr><th>VendorID</th><th>tpep_pickup_datetime</th><th>tpep_dropoff_datetime</th><th>passenger_count</th><th>trip_distance</th><th>RatecodeID</th><th>store_and_fwd_flag</th><th>PULocationID</th><th>DOLocationID</th><th>payment_type</th><th>fare_amount</th><th>extra</th><th>mta_tax</th><th>tip_amount</th><th>tolls_amount</th><th>improvement_surcharge</th><th>total_amount</th><th>congestion_surcharge</th><th>airport_fee</th></tr><tr><td>i64</td><td>datetime[ns]</td><td>datetime[ns]</td><td>f64</td><td>f64</td><td>f64</td><td>str</td><td>i64</td><td>i64</td><td>i64</td><td>f64</td><td>f64</td><td>f64</td><td>f64</td><td>f64</td><td>f64</td><td>f64</td><td>f64</td><td>null</td></tr></thead><tbody><tr><td>1</td><td>2020-01-01 00:28:15</td><td>2020-01-01 00:33:03</td><td>1.0</td><td>1.2</td><td>1.0</td><td>&quot;N&quot;</td><td>238</td><td>239</td><td>1</td><td>6.0</td><td>3.0</td><td>0.5</td><td>1.47</td><td>0.0</td><td>0.3</td><td>11.27</td><td>2.5</td><td>null</td></tr><tr><td>1</td><td>2020-01-01 00:35:39</td><td>2020-01-01 00:43:04</td><td>1.0</td><td>1.2</td><td>1.0</td><td>&quot;N&quot;</td><td>239</td><td>238</td><td>1</td><td>7.0</td><td>3.0</td><td>0.5</td><td>1.5</td><td>0.0</td><td>0.3</td><td>12.3</td><td>2.5</td><td>null</td></tr><tr><td>1</td><td>2020-01-01 00:47:41</td><td>2020-01-01 00:53:52</td><td>1.0</td><td>0.6</td><td>1.0</td><td>&quot;N&quot;</td><td>238</td><td>238</td><td>1</td><td>6.0</td><td>3.0</td><td>0.5</td><td>1.0</td><td>0.0</td><td>0.3</td><td>10.8</td><td>2.5</td><td>null</td></tr><tr><td>1</td><td>2020-01-01 00:55:23</td><td>2020-01-01 01:00:14</td><td>1.0</td><td>0.8</td><td>1.0</td><td>&quot;N&quot;</td><td>238</td><td>151</td><td>1</td><td>5.5</td><td>0.5</td><td>0.5</td><td>1.36</td><td>0.0</td><td>0.3</td><td>8.16</td><td>0.0</td><td>null</td></tr><tr><td>2</td><td>2020-01-01 00:01:58</td><td>2020-01-01 00:04:16</td><td>1.0</td><td>0.0</td><td>1.0</td><td>&quot;N&quot;</td><td>193</td><td>193</td><td>2</td><td>3.5</td><td>0.5</td><td>0.5</td><td>0.0</td><td>0.0</td><td>0.3</td><td>4.8</td><td>0.0</td><td>null</td></tr><tr><td>&hellip;</td><td>&hellip;</td><td>&hellip;</td><td>&hellip;</td><td>&hellip;</td><td>&hellip;</td><td>&hellip;</td><td>&hellip;</td><td>&hellip;</td><td>&hellip;</td><td>&hellip;</td><td>&hellip;</td><td>&hellip;</td><td>&hellip;</td><td>&hellip;</td><td>&hellip;</td><td>&hellip;</td><td>&hellip;</td><td>&hellip;</td></tr><tr><td>2</td><td>2020-01-31 23:08:00</td><td>2020-01-31 23:34:00</td><td>null</td><td>12.07</td><td>null</td><td>null</td><td>191</td><td>35</td><td>0</td><td>52.18</td><td>2.75</td><td>0.5</td><td>0.0</td><td>0.0</td><td>0.3</td><td>55.73</td><td>null</td><td>null</td></tr><tr><td>2</td><td>2020-01-31 23:00:00</td><td>2020-01-31 23:44:00</td><td>null</td><td>23.48</td><td>null</td><td>null</td><td>186</td><td>117</td><td>0</td><td>54.01</td><td>2.75</td><td>0.5</td><td>0.0</td><td>6.12</td><td>0.3</td><td>63.68</td><td>null</td><td>null</td></tr><tr><td>2</td><td>2020-01-31 23:13:00</td><td>2020-01-31 23:38:00</td><td>null</td><td>12.09</td><td>null</td><td>null</td><td>164</td><td>131</td><td>0</td><td>38.02</td><td>2.75</td><td>0.5</td><td>0.0</td><td>6.12</td><td>0.3</td><td>47.69</td><td>null</td><td>null</td></tr><tr><td>2</td><td>2020-01-31 23:02:54</td><td>2020-01-31 23:27:10</td><td>null</td><td>11.65</td><td>null</td><td>null</td><td>10</td><td>16</td><td>0</td><td>28.74</td><td>2.75</td><td>0.0</td><td>0.0</td><td>0.0</td><td>0.3</td><td>31.79</td><td>null</td><td>null</td></tr><tr><td>2</td><td>2020-01-31 23:56:37</td><td>2020-02-01 00:16:35</td><td>null</td><td>8.54</td><td>null</td><td>null</td><td>247</td><td>81</td><td>0</td><td>31.31</td><td>2.75</td><td>0.0</td><td>0.0</td><td>0.0</td><td>0.3</td><td>34.36</td><td>null</td><td>null</td></tr></tbody></table></div>"
      ]
     },
     "execution_count": 4,
     "metadata": {},
     "output_type": "execute_result"
    }
   ],
   "execution_count": 4
  },
  {
   "cell_type": "code",
   "id": "019936bd-33f2-406f-bf0b-24f22199a393",
   "metadata": {
    "ExecuteTime": {
     "end_time": "2025-01-20T11:42:17.568674Z",
     "start_time": "2025-01-20T11:42:17.554635Z"
    }
   },
   "source": [
    "def missing_data(df, missing_threshold=50.0, outlier_std_multiplier=2.0):\n",
    "    missing_summary = {}\n",
    "    missing_percentages = []\n",
    "\n",
    "    if isinstance(df, pd.DataFrame):\n",
    "        total_rows = len(df)\n",
    "        for column in df.columns:\n",
    "            missing_percentage = df[column].isna().sum() / total_rows * 100\n",
    "            missing_percentages.append((column, missing_percentage, str(df[column].dtype)))\n",
    "\n",
    "    elif isinstance(df, pl.DataFrame):\n",
    "        total_rows = df.height\n",
    "        for column in df.columns:\n",
    "            missing_percentage = df[column].null_count() / total_rows * 100\n",
    "            missing_percentages.append((column, missing_percentage, str(df[column].dtype)))\n",
    "\n",
    "    percentages = [entry[1] for entry in missing_percentages]\n",
    "    mean_missing = sum(percentages) / len(percentages)\n",
    "    std_missing = (sum((p - mean_missing) ** 2 for p in percentages) / len(percentages)) ** 0.5\n",
    "\n",
    "    for column, missing_percentage, dtype in missing_percentages:\n",
    "        if missing_percentage > missing_threshold or missing_percentage > mean_missing + outlier_std_multiplier * std_missing:\n",
    "            missing_summary[column] = {\n",
    "                \"missing_percentage\": missing_percentage,\n",
    "                \"dtype\": dtype,\n",
    "                \"is_outlier\": missing_percentage > mean_missing + outlier_std_multiplier * std_missing\n",
    "            }\n",
    "\n",
    "    return missing_summary\n"
   ],
   "outputs": [],
   "execution_count": 40
  },
  {
   "cell_type": "code",
   "id": "0c4ceb9a-39e3-4245-a60c-a16aaf9e2bf2",
   "metadata": {
    "ExecuteTime": {
     "end_time": "2025-01-20T11:41:12.289Z",
     "start_time": "2025-01-20T11:41:11.654808Z"
    }
   },
   "source": [
    "df_pd = missing_data(dfpd)\n",
    "df_pl = missing_data(dfpl)"
   ],
   "outputs": [],
   "execution_count": 35
  },
  {
   "cell_type": "code",
   "id": "539ae03a-0c4f-45b8-8f27-03399dc9a3c4",
   "metadata": {
    "ExecuteTime": {
     "end_time": "2025-01-20T11:41:13.213704Z",
     "start_time": "2025-01-20T11:41:13.208412Z"
    }
   },
   "source": "print(df_pd)",
   "outputs": [
    {
     "name": "stdout",
     "output_type": "stream",
     "text": [
      "{'airport_fee': {'missing_percentage': 100.0, 'dtype': 'object', 'is_outlier': True}}\n"
     ]
    }
   ],
   "execution_count": 36
  },
  {
   "cell_type": "code",
   "id": "ac3f2fbf-eb40-4c7e-ae79-f21f7f71ca05",
   "metadata": {
    "ExecuteTime": {
     "end_time": "2025-01-20T11:41:15.982806Z",
     "start_time": "2025-01-20T11:41:15.977096Z"
    }
   },
   "source": "print(df_pl)",
   "outputs": [
    {
     "name": "stdout",
     "output_type": "stream",
     "text": [
      "{'airport_fee': {'missing_percentage': 100.0, 'dtype': 'Null', 'is_outlier': True}}\n"
     ]
    }
   ],
   "execution_count": 37
  },
  {
   "cell_type": "code",
   "id": "5f8bb0ff-77ed-451d-bd95-ee858468aff8",
   "metadata": {
    "ExecuteTime": {
     "end_time": "2025-01-20T10:55:48.405257Z",
     "start_time": "2025-01-20T10:55:48.001768Z"
    }
   },
   "source": [
    "print(dfpd.isna().sum())"
   ],
   "outputs": [
    {
     "name": "stdout",
     "output_type": "stream",
     "text": [
      "VendorID                       0\n",
      "tpep_pickup_datetime           0\n",
      "tpep_dropoff_datetime          0\n",
      "passenger_count            65441\n",
      "trip_distance                  0\n",
      "RatecodeID                 65441\n",
      "store_and_fwd_flag         65441\n",
      "PULocationID                   0\n",
      "DOLocationID                   0\n",
      "payment_type                   0\n",
      "fare_amount                    0\n",
      "extra                          0\n",
      "mta_tax                        0\n",
      "tip_amount                     0\n",
      "tolls_amount                   0\n",
      "improvement_surcharge          0\n",
      "total_amount                   0\n",
      "congestion_surcharge       65441\n",
      "airport_fee              6405008\n",
      "dtype: int64\n"
     ]
    }
   ],
   "execution_count": 32
  },
  {
   "metadata": {},
   "cell_type": "code",
   "outputs": [],
   "execution_count": null,
   "source": "",
   "id": "f89b1594f6e12555"
  }
 ],
 "metadata": {
  "kernelspec": {
   "display_name": "base",
   "language": "python",
   "name": "python3"
  },
  "language_info": {
   "codemirror_mode": {
    "name": "ipython",
    "version": 3
   },
   "file_extension": ".py",
   "mimetype": "text/x-python",
   "name": "python",
   "nbconvert_exporter": "python",
   "pygments_lexer": "ipython3",
   "version": "3.12.4"
  }
 },
 "nbformat": 4,
 "nbformat_minor": 5
}
