﻿{
 "cells": [
  {
   "cell_type": "code",
   "id": "initial_id",
   "metadata": {
    "collapsed": true,
    "ExecuteTime": {
     "end_time": "2025-01-22T14:03:29.356079Z",
     "start_time": "2025-01-22T14:03:29.349047Z"
    }
   },
   "source": [
    "import pandas as pd\n",
    "import numpy as np\n",
    "from sklearn.model_selection import train_test_split\n",
    "from sklearn.impute import SimpleImputer, KNNImputer\n",
    "from sklearn.metrics import accuracy_score\n",
    "from xgboost import XGBClassifier"
   ],
   "outputs": [],
   "execution_count": 20
  },
  {
   "metadata": {
    "ExecuteTime": {
     "end_time": "2025-01-22T14:03:29.576847Z",
     "start_time": "2025-01-22T14:03:29.570668Z"
    }
   },
   "cell_type": "code",
   "source": [
    "import warnings\n",
    "warnings.filterwarnings(\"ignore\")"
   ],
   "id": "5c5f3c92be9d92c5",
   "outputs": [],
   "execution_count": 21
  },
  {
   "metadata": {
    "ExecuteTime": {
     "end_time": "2025-01-22T14:03:29.792723Z",
     "start_time": "2025-01-22T14:03:29.776882Z"
    }
   },
   "cell_type": "code",
   "source": [
    "full_data = pd.read_csv('D:\\missing_data\\dat\\classification_dataset.csv')\n",
    "data_with_missing = pd.read_csv('D:\\missing_data\\dat\\classification_dataset_with_missing.csv')"
   ],
   "id": "45484b1352f91440",
   "outputs": [],
   "execution_count": 22
  },
  {
   "metadata": {
    "ExecuteTime": {
     "end_time": "2025-01-22T14:03:50.879424Z",
     "start_time": "2025-01-22T14:03:50.866926Z"
    }
   },
   "cell_type": "code",
   "source": "print(full_data)",
   "id": "8f463a99c7a8798d",
   "outputs": [
    {
     "name": "stdout",
     "output_type": "stream",
     "text": [
      "     feature_1  feature_2  feature_3  feature_4  feature_5  feature_6  \\\n",
      "0    -2.568916  -0.257409  -2.679357   3.864818   2.564998  -0.737556   \n",
      "1     0.622861   0.534544   0.018283  -0.283382   1.907637  -0.341310   \n",
      "2    -0.171251  -0.496278   1.613347   2.488069  -1.677966   0.303604   \n",
      "3    -0.871423  -0.333946   3.368446   0.972153  -0.134388   0.212820   \n",
      "4     2.346402  -0.699965  -0.203251  -0.256745  -1.974251   0.619663   \n",
      "..         ...        ...        ...        ...        ...        ...   \n",
      "995  -2.478330  -1.104726  -0.900796   1.451043  -0.150230  -0.921653   \n",
      "996   2.192353  -0.444433  -1.439293  -1.022223   2.027416   1.280332   \n",
      "997   1.497338  -1.148851  -0.787342  -1.108765  -0.492599  -0.553695   \n",
      "998  -0.173973   0.167813   2.607611   0.628983   3.464411  -0.796327   \n",
      "999  -1.586110   0.893592  -1.307421   1.731974   1.417739   0.026572   \n",
      "\n",
      "     feature_7  feature_8  feature_9  feature_10  target  \n",
      "0    -3.330985  -1.213370  -1.473105   -0.846386       1  \n",
      "1     1.206240  -1.093532  -0.469791   -0.188022       1  \n",
      "2    -2.104579   0.714531   3.475999    0.623386       0  \n",
      "3     0.700899   0.716046  -1.300910    3.439831       1  \n",
      "4    -1.247950  -1.662115   3.921452   -0.759491       0  \n",
      "..         ...        ...        ...         ...     ...  \n",
      "995  -1.053137  -1.744565  -0.021057   -1.576797       2  \n",
      "996   0.327039   0.738823  -1.320659    0.432581       1  \n",
      "997  -0.029020  -0.992044   0.718681   -0.451392       0  \n",
      "998   3.344656  -0.269352   0.651573   -0.319144       0  \n",
      "999  -1.117196  -0.056612  -0.540792   -1.098688       1  \n",
      "\n",
      "[1000 rows x 11 columns]\n"
     ]
    }
   ],
   "execution_count": 29
  },
  {
   "metadata": {
    "ExecuteTime": {
     "end_time": "2025-01-22T14:03:55.482271Z",
     "start_time": "2025-01-22T14:03:55.467541Z"
    }
   },
   "cell_type": "code",
   "source": "print(data_with_missing)",
   "id": "563ad0a8c0e68e7d",
   "outputs": [
    {
     "name": "stdout",
     "output_type": "stream",
     "text": [
      "     feature_1  feature_2  feature_3  feature_4  feature_5  feature_6  \\\n",
      "1          NaN        NaN        NaN        NaN   1.907637  -0.341310   \n",
      "2    -0.171251  -0.496278        NaN        NaN        NaN        NaN   \n",
      "3    -0.871423        NaN        NaN        NaN        NaN        NaN   \n",
      "5          NaN        NaN        NaN        NaN   2.857559        NaN   \n",
      "9    -1.220030        NaN        NaN   0.279617        NaN   0.973366   \n",
      "..         ...        ...        ...        ...        ...        ...   \n",
      "992        NaN   0.436733  -4.898620   4.508056   3.856748        NaN   \n",
      "994        NaN  -0.476398        NaN        NaN   0.143255   0.055043   \n",
      "995  -2.478330  -1.104726        NaN   1.451043        NaN        NaN   \n",
      "998        NaN        NaN   2.607611        NaN   3.464411        NaN   \n",
      "999        NaN   0.893592  -1.307421   1.731974   1.417739        NaN   \n",
      "\n",
      "     feature_7  feature_8  feature_9  feature_10  target  \n",
      "1     1.206240        NaN        NaN         NaN     1.0  \n",
      "2    -2.104579   0.714531   3.475999    0.623386     0.0  \n",
      "3          NaN        NaN        NaN    3.439831     1.0  \n",
      "5     3.747260        NaN        NaN    0.414486     0.0  \n",
      "9    -0.325004        NaN  -0.505313   -1.561181     2.0  \n",
      "..         ...        ...        ...         ...     ...  \n",
      "992        NaN        NaN  -1.031562         NaN     1.0  \n",
      "994   2.064238  -0.142654        NaN    0.638255     1.0  \n",
      "995        NaN  -1.744565  -0.021057   -1.576797     2.0  \n",
      "998        NaN        NaN   0.651573   -0.319144     0.0  \n",
      "999  -1.117196        NaN        NaN   -1.098688     1.0  \n",
      "\n",
      "[510 rows x 11 columns]\n"
     ]
    }
   ],
   "execution_count": 30
  },
  {
   "metadata": {
    "ExecuteTime": {
     "end_time": "2025-01-22T14:03:30.006982Z",
     "start_time": "2025-01-22T14:03:29.995392Z"
    }
   },
   "cell_type": "code",
   "source": "data_with_missing = data_with_missing.dropna(subset=['target'])",
   "id": "5d982700bdf85d7e",
   "outputs": [],
   "execution_count": 23
  },
  {
   "metadata": {
    "ExecuteTime": {
     "end_time": "2025-01-22T14:03:30.248025Z",
     "start_time": "2025-01-22T14:03:30.240258Z"
    }
   },
   "cell_type": "code",
   "source": [
    "def evaluate_dataset(data, handle_missing=False, strategy='mean', constant_value=None, use_knn=False):\n",
    "    X = data.drop(columns=['target'])\n",
    "    y = data['target']\n",
    "\n",
    "    X_train, X_test, y_train, y_test = train_test_split(X, y, test_size=0.2, random_state=42)\n",
    "\n",
    "    if handle_missing:\n",
    "        if use_knn:\n",
    "            imputer = KNNImputer()\n",
    "        elif strategy == 'constant':\n",
    "            imputer = SimpleImputer(strategy='constant', fill_value=constant_value)\n",
    "        else:\n",
    "            imputer = SimpleImputer(strategy=strategy)\n",
    "\n",
    "        X_train = imputer.fit_transform(X_train)\n",
    "        X_test = imputer.transform(X_test)\n",
    "\n",
    "        if np.any(np.isnan(X_train)) or np.any(np.isnan(X_test)):\n",
    "            print(\"Warning: NaN values remain after imputation!\")\n",
    "\n",
    "    model = XGBClassifier(use_label_encoder=False, eval_metric='logloss', random_state=42)\n",
    "\n",
    "    model.fit(X_train, y_train)\n",
    "\n",
    "    y_pred = model.predict(X_test)\n",
    "    accuracy = accuracy_score(y_test, y_pred)\n",
    "\n",
    "    return accuracy"
   ],
   "id": "4e39f1b668777ae5",
   "outputs": [],
   "execution_count": 24
  },
  {
   "metadata": {
    "ExecuteTime": {
     "end_time": "2025-01-22T14:03:30.686032Z",
     "start_time": "2025-01-22T14:03:30.484854Z"
    }
   },
   "cell_type": "code",
   "source": [
    "print(\"\\nEvaluating full dataset:\")\n",
    "full_accuracy = evaluate_dataset(full_data)\n",
    "print(f\"Accuracy: {full_accuracy:.5f}\")"
   ],
   "id": "1aa1907d915c5201",
   "outputs": [
    {
     "name": "stdout",
     "output_type": "stream",
     "text": [
      "\n",
      "Evaluating full dataset:\n",
      "Accuracy: 0.87500\n"
     ]
    }
   ],
   "execution_count": 25
  },
  {
   "metadata": {
    "ExecuteTime": {
     "end_time": "2025-01-22T14:03:31.400865Z",
     "start_time": "2025-01-22T14:03:30.789880Z"
    }
   },
   "cell_type": "code",
   "source": [
    "results = {}\n",
    "strategies = ['mean', 'median', 'most_frequent', 'constant']\n",
    "for strategy in strategies:\n",
    "    if strategy == 'constant':\n",
    "        print(f\"\\nEvaluating dataset with missing values (strategy: {strategy}, constant_value=0):\")\n",
    "        accuracy = evaluate_dataset(data_with_missing, handle_missing=True, strategy=strategy, constant_value=0)\n",
    "    else:\n",
    "        print(f\"\\nEvaluating dataset with missing values (strategy: {strategy}):\")\n",
    "        accuracy = evaluate_dataset(data_with_missing, handle_missing=True, strategy=strategy)\n",
    "    results[strategy] = accuracy\n",
    "    print(f\"Accuracy: {accuracy:.5f}\")"
   ],
   "id": "24b9ace862b9a0da",
   "outputs": [
    {
     "name": "stdout",
     "output_type": "stream",
     "text": [
      "\n",
      "Evaluating dataset with missing values (strategy: mean):\n",
      "Accuracy: 0.50000\n",
      "\n",
      "Evaluating dataset with missing values (strategy: median):\n",
      "Accuracy: 0.50980\n",
      "\n",
      "Evaluating dataset with missing values (strategy: most_frequent):\n",
      "Accuracy: 0.51961\n",
      "\n",
      "Evaluating dataset with missing values (strategy: constant, constant_value=0):\n",
      "Accuracy: 0.54902\n"
     ]
    }
   ],
   "execution_count": 26
  },
  {
   "metadata": {
    "ExecuteTime": {
     "end_time": "2025-01-22T14:03:31.580031Z",
     "start_time": "2025-01-22T14:03:31.409707Z"
    }
   },
   "cell_type": "code",
   "source": [
    "print(\"\\nEvaluating dataset with missing values (strategy: KNN):\")\n",
    "knn_accuracy = evaluate_dataset(data_with_missing, handle_missing=True, use_knn=True)\n",
    "results['knn'] = knn_accuracy\n",
    "print(f\"Accuracy: {knn_accuracy:.5f}\")"
   ],
   "id": "67d6ef0805fb7029",
   "outputs": [
    {
     "name": "stdout",
     "output_type": "stream",
     "text": [
      "\n",
      "Evaluating dataset with missing values (strategy: KNN):\n",
      "Accuracy: 0.54902\n"
     ]
    }
   ],
   "execution_count": 27
  },
  {
   "metadata": {
    "ExecuteTime": {
     "end_time": "2025-01-22T14:03:32.337587Z",
     "start_time": "2025-01-22T14:03:32.331593Z"
    }
   },
   "cell_type": "code",
   "source": [
    "print(\"\\nSummary of accuracies:\")\n",
    "for strategy, accuracy in results.items():\n",
    "    print(f\"{strategy}: {accuracy:.5f}\")"
   ],
   "id": "b81289c8eace33a6",
   "outputs": [
    {
     "name": "stdout",
     "output_type": "stream",
     "text": [
      "\n",
      "Summary of accuracies:\n",
      "mean: 0.50000\n",
      "median: 0.50980\n",
      "most_frequent: 0.51961\n",
      "constant: 0.54902\n",
      "knn: 0.54902\n"
     ]
    }
   ],
   "execution_count": 28
  },
  {
   "metadata": {},
   "cell_type": "code",
   "outputs": [],
   "execution_count": null,
   "source": "",
   "id": "d1765d4496106ac2"
  }
 ],
 "metadata": {
  "kernelspec": {
   "display_name": "Python 3",
   "language": "python",
   "name": "python3"
  },
  "language_info": {
   "codemirror_mode": {
    "name": "ipython",
    "version": 2
   },
   "file_extension": ".py",
   "mimetype": "text/x-python",
   "name": "python",
   "nbconvert_exporter": "python",
   "pygments_lexer": "ipython2",
   "version": "2.7.6"
  }
 },
 "nbformat": 4,
 "nbformat_minor": 5
}
