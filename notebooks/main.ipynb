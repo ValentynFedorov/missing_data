﻿{
 "cells": [
  {
   "metadata": {
    "ExecuteTime": {
     "end_time": "2025-01-22T11:23:39.059501Z",
     "start_time": "2025-01-22T11:23:39.054770Z"
    }
   },
   "cell_type": "code",
   "source": [
    "import pandas as pd\n",
    "import numpy as np\n",
    "from xgboost import XGBRegressor\n",
    "from sklearn.impute import SimpleImputer\n",
    "from sklearn.metrics import mean_squared_error, r2_score, accuracy_score\n",
    "from sklearn.model_selection import train_test_split\n",
    "from sklearn.impute import KNNImputer\n"
   ],
   "id": "107b670f74728df3",
   "outputs": [],
   "execution_count": 19
  },
  {
   "metadata": {
    "ExecuteTime": {
     "end_time": "2025-01-22T11:23:39.326839Z",
     "start_time": "2025-01-22T11:23:39.315149Z"
    }
   },
   "cell_type": "code",
   "source": [
    "baseline = pd.read_csv('D:/missing_data/dat/baseline_dataset.csv')\n",
    "df = pd.read_csv('D:/missing_data/dat/dataset_with_missing_values.csv')"
   ],
   "id": "18b658b27e3d3d8c",
   "outputs": [],
   "execution_count": 20
  },
  {
   "metadata": {
    "ExecuteTime": {
     "end_time": "2025-01-22T11:23:41.079802Z",
     "start_time": "2025-01-22T11:23:41.074440Z"
    }
   },
   "cell_type": "code",
   "source": "df = df.drop('Target', axis=1)",
   "id": "1de1753ae69b63b3",
   "outputs": [],
   "execution_count": 23
  },
  {
   "metadata": {
    "ExecuteTime": {
     "end_time": "2025-01-22T11:23:55.754484Z",
     "start_time": "2025-01-22T11:23:55.748879Z"
    }
   },
   "cell_type": "code",
   "source": "baseline = baseline.drop('Target', axis=1)",
   "id": "fbfa5d26d27794cd",
   "outputs": [],
   "execution_count": 24
  },
  {
   "metadata": {
    "ExecuteTime": {
     "end_time": "2025-01-22T11:24:55.671612Z",
     "start_time": "2025-01-22T11:24:55.663616Z"
    }
   },
   "cell_type": "code",
   "source": "print(baseline)",
   "id": "7c5e25372b75c955",
   "outputs": [
    {
     "name": "stdout",
     "output_type": "stream",
     "text": [
      "    Feature_1  Feature_2  Feature_3  Feature_4  Feature_5\n",
      "0    0.374540   0.950714   0.731994   0.598658   0.156019\n",
      "1    0.155995   0.058084   0.866176   0.601115   0.708073\n",
      "2    0.020584   0.969910   0.832443   0.212339   0.181825\n",
      "3    0.183405   0.304242   0.524756   0.431945   0.291229\n",
      "4    0.611853   0.139494   0.292145   0.366362   0.456070\n",
      "..        ...        ...        ...        ...        ...\n",
      "95   0.992965   0.073797   0.553854   0.969303   0.523098\n",
      "96   0.629399   0.695749   0.454541   0.627558   0.584314\n",
      "97   0.901158   0.045446   0.280963   0.950411   0.890264\n",
      "98   0.455657   0.620133   0.277381   0.188121   0.463698\n",
      "99   0.353352   0.583656   0.077735   0.974395   0.986211\n",
      "\n",
      "[100 rows x 5 columns]\n"
     ]
    }
   ],
   "execution_count": 42
  },
  {
   "metadata": {
    "ExecuteTime": {
     "end_time": "2025-01-22T11:24:58.681306Z",
     "start_time": "2025-01-22T11:24:58.670811Z"
    }
   },
   "cell_type": "code",
   "source": "print(df)",
   "id": "6d4970a69ae6d63c",
   "outputs": [
    {
     "name": "stdout",
     "output_type": "stream",
     "text": [
      "    Feature_1  Feature_2  Feature_3  Feature_4  Feature_5\n",
      "0         NaN        NaN   0.731994        NaN        NaN\n",
      "1    0.155995   0.058084        NaN   0.601115   0.708073\n",
      "2    0.020584        NaN        NaN   0.212339   0.181825\n",
      "3    0.183405   0.304242   0.524756   0.431945   0.291229\n",
      "4         NaN   0.139494   0.292145   0.366362        NaN\n",
      "..        ...        ...        ...        ...        ...\n",
      "95        NaN        NaN   0.553854   0.969303        NaN\n",
      "96   0.629399   0.695749   0.454541   0.627558   0.584314\n",
      "97        NaN   0.045446        NaN        NaN        NaN\n",
      "98        NaN   0.620133   0.277381   0.188121   0.463698\n",
      "99        NaN   0.583656        NaN   0.974395   0.986211\n",
      "\n",
      "[100 rows x 5 columns]\n"
     ]
    }
   ],
   "execution_count": 43
  },
  {
   "metadata": {
    "ExecuteTime": {
     "end_time": "2025-01-22T11:25:06.859290Z",
     "start_time": "2025-01-22T11:25:06.853128Z"
    }
   },
   "cell_type": "code",
   "source": [
    "X = df\n",
    "y = baseline"
   ],
   "id": "1842840f1d6ec36e",
   "outputs": [],
   "execution_count": 44
  },
  {
   "metadata": {
    "ExecuteTime": {
     "end_time": "2025-01-22T11:25:07.206103Z",
     "start_time": "2025-01-22T11:25:07.200042Z"
    }
   },
   "cell_type": "code",
   "source": [
    "imputers = {\n",
    "    'mean': SimpleImputer(strategy='mean'),\n",
    "    'median': SimpleImputer(strategy='median'),\n",
    "    'mode': SimpleImputer(strategy='most_frequent'),\n",
    "    'constant': SimpleImputer(strategy='constant', fill_value=0),\n",
    "    'KNN': KNNImputer(n_neighbors=5)\n",
    "    \n",
    "}"
   ],
   "id": "111351e1b2c5fb89",
   "outputs": [],
   "execution_count": 45
  },
  {
   "metadata": {
    "ExecuteTime": {
     "end_time": "2025-01-22T11:25:07.372985Z",
     "start_time": "2025-01-22T11:25:07.367090Z"
    }
   },
   "cell_type": "code",
   "source": "results = {}",
   "id": "4eb70e24c2607d4c",
   "outputs": [],
   "execution_count": 46
  },
  {
   "metadata": {
    "ExecuteTime": {
     "end_time": "2025-01-22T11:25:08.326094Z",
     "start_time": "2025-01-22T11:25:07.493334Z"
    }
   },
   "cell_type": "code",
   "source": [
    "for strategy, imputer in imputers.items():\n",
    "    X_imputed = pd.DataFrame(imputer.fit_transform(X), columns=X.columns)\n",
    "\n",
    "    X_train, X_test, y_train, y_test = train_test_split(X_imputed, y, test_size=0.3, random_state=42)\n",
    "\n",
    "    model = XGBRegressor(random_state=42)\n",
    "    model.fit(X_train, y_train)\n",
    "\n",
    "    predictions = model.predict(X_test)\n",
    "\n",
    "    mse = mean_squared_error(y_test.values.flatten(), predictions.flatten())\n",
    "    r2 = r2_score(y_test.values.flatten(), predictions.flatten())\n",
    "\n",
    "    accuracy = accuracy_score(y_test.values.flatten().round(), predictions.flatten().round())\n",
    "\n",
    "    results[strategy] = {'MSE': mse, 'R2': r2, 'Accuracy': accuracy}"
   ],
   "id": "35699dfc02021a23",
   "outputs": [],
   "execution_count": 47
  },
  {
   "metadata": {
    "ExecuteTime": {
     "end_time": "2025-01-22T11:25:08.341491Z",
     "start_time": "2025-01-22T11:25:08.337104Z"
    }
   },
   "cell_type": "code",
   "source": [
    "print(\"Comparison\")\n",
    "for strategy, metrics in results.items():\n",
    "    print(f\"{strategy.capitalize()} - MSE: {metrics['MSE']:.4f}, R2: {metrics['R2']:.4f}, Accuracy: {metrics['Accuracy']:.4f}\")"
   ],
   "id": "73a607330a82d8fa",
   "outputs": [
    {
     "name": "stdout",
     "output_type": "stream",
     "text": [
      "Comparison\n",
      "Mean - MSE: 0.0674, R2: 0.0747, Accuracy: 0.6800\n",
      "Median - MSE: 0.0697, R2: 0.0436, Accuracy: 0.6600\n",
      "Mode - MSE: 0.0761, R2: -0.0443, Accuracy: 0.6933\n",
      "Constant - MSE: 0.0742, R2: -0.0190, Accuracy: 0.6800\n",
      "Knn - MSE: 0.0710, R2: 0.0245, Accuracy: 0.6667\n"
     ]
    }
   ],
   "execution_count": 48
  },
  {
   "metadata": {
    "ExecuteTime": {
     "end_time": "2025-01-22T11:25:08.439296Z",
     "start_time": "2025-01-22T11:25:08.435966Z"
    }
   },
   "cell_type": "code",
   "source": "",
   "id": "39dce6adf12dda74",
   "outputs": [],
   "execution_count": null
  },
  {
   "metadata": {},
   "cell_type": "code",
   "outputs": [],
   "execution_count": null,
   "source": "",
   "id": "559463ce4c20787b"
  }
 ],
 "metadata": {
  "kernelspec": {
   "display_name": "Python 3",
   "language": "python",
   "name": "python3"
  },
  "language_info": {
   "codemirror_mode": {
    "name": "ipython",
    "version": 2
   },
   "file_extension": ".py",
   "mimetype": "text/x-python",
   "name": "python",
   "nbconvert_exporter": "python",
   "pygments_lexer": "ipython2",
   "version": "2.7.6"
  }
 },
 "nbformat": 4,
 "nbformat_minor": 5
}
