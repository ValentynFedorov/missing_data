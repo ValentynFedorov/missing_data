﻿{
 "cells": [
  {
   "metadata": {
    "ExecuteTime": {
     "end_time": "2025-01-22T11:05:52.946133Z",
     "start_time": "2025-01-22T11:05:52.941332Z"
    }
   },
   "cell_type": "code",
   "source": [
    "import pandas as pd\n",
    "import numpy as np\n",
    "from xgboost import XGBRegressor\n",
    "from sklearn.impute import SimpleImputer\n",
    "from sklearn.metrics import mean_squared_error, r2_score, accuracy_score\n",
    "from sklearn.model_selection import train_test_split\n",
    "from sklearn.impute import KNNImputer\n"
   ],
   "id": "107b670f74728df3",
   "outputs": [],
   "execution_count": 105
  },
  {
   "metadata": {
    "ExecuteTime": {
     "end_time": "2025-01-22T11:05:53.103800Z",
     "start_time": "2025-01-22T11:05:53.092497Z"
    }
   },
   "cell_type": "code",
   "source": [
    "baseline = pd.read_csv('dat/baseline_dataset.csv')\n",
    "df = pd.read_csv('dat/dataset_with_missing_values.csv')"
   ],
   "id": "18b658b27e3d3d8c",
   "outputs": [],
   "execution_count": 106
  },
  {
   "metadata": {
    "ExecuteTime": {
     "end_time": "2025-01-22T11:05:53.227176Z",
     "start_time": "2025-01-22T11:05:53.222437Z"
    }
   },
   "cell_type": "code",
   "source": [
    "X = df\n",
    "y = baseline"
   ],
   "id": "1842840f1d6ec36e",
   "outputs": [],
   "execution_count": 107
  },
  {
   "metadata": {
    "ExecuteTime": {
     "end_time": "2025-01-22T11:05:53.355827Z",
     "start_time": "2025-01-22T11:05:53.350523Z"
    }
   },
   "cell_type": "code",
   "source": [
    "imputers = {\n",
    "    'mean': SimpleImputer(strategy='mean'),\n",
    "    'median': SimpleImputer(strategy='median'),\n",
    "    'mode': SimpleImputer(strategy='most_frequent'),\n",
    "    'constant': SimpleImputer(strategy='constant', fill_value=0),\n",
    "    'KNN': KNNImputer(n_neighbors=5)\n",
    "    \n",
    "}"
   ],
   "id": "111351e1b2c5fb89",
   "outputs": [],
   "execution_count": 108
  },
  {
   "metadata": {
    "ExecuteTime": {
     "end_time": "2025-01-22T11:05:53.498813Z",
     "start_time": "2025-01-22T11:05:53.494192Z"
    }
   },
   "cell_type": "code",
   "source": "results = {}",
   "id": "4eb70e24c2607d4c",
   "outputs": [],
   "execution_count": 109
  },
  {
   "metadata": {
    "ExecuteTime": {
     "end_time": "2025-01-22T11:06:01.219315Z",
     "start_time": "2025-01-22T11:06:00.531930Z"
    }
   },
   "cell_type": "code",
   "source": [
    "for strategy, imputer in imputers.items():\n",
    "    X_imputed = pd.DataFrame(imputer.fit_transform(X), columns=X.columns)\n",
    "\n",
    "    X_train, X_test, y_train, y_test = train_test_split(X_imputed, y, test_size=0.25, random_state=42)\n",
    "\n",
    "    model = XGBRegressor(random_state=42)\n",
    "    model.fit(X_train, y_train)\n",
    "\n",
    "    predictions = model.predict(X_test)\n",
    "\n",
    "    mse = mean_squared_error(y_test.values.flatten(), predictions.flatten())\n",
    "    r2 = r2_score(y_test.values.flatten(), predictions.flatten())\n",
    "\n",
    "    accuracy = accuracy_score(y_test.values.flatten().round(), predictions.flatten().round())\n",
    "\n",
    "    results[strategy] = {'MSE': mse, 'R2': r2, 'Accuracy': accuracy}"
   ],
   "id": "35699dfc02021a23",
   "outputs": [],
   "execution_count": 112
  },
  {
   "metadata": {
    "ExecuteTime": {
     "end_time": "2025-01-22T11:06:01.231267Z",
     "start_time": "2025-01-22T11:06:01.226321Z"
    }
   },
   "cell_type": "code",
   "source": [
    "print(\"Comparison\")\n",
    "for strategy, metrics in results.items():\n",
    "    print(f\"{strategy.capitalize()} - MSE: {metrics['MSE']:.4f}, R2: {metrics['R2']:.4f}, Accuracy: {metrics['Accuracy']:.4f}\")"
   ],
   "id": "73a607330a82d8fa",
   "outputs": [
    {
     "name": "stdout",
     "output_type": "stream",
     "text": [
      "Comparison\n",
      "Mean - MSE: 0.0556, R2: 0.4719, Accuracy: 0.7067\n",
      "Median - MSE: 0.0555, R2: 0.4721, Accuracy: 0.7400\n",
      "Mode - MSE: 0.0640, R2: 0.3918, Accuracy: 0.7400\n",
      "Constant - MSE: 0.0614, R2: 0.4162, Accuracy: 0.7333\n",
      "Knn - MSE: 0.0470, R2: 0.5532, Accuracy: 0.7667\n"
     ]
    }
   ],
   "execution_count": 113
  },
  {
   "metadata": {},
   "cell_type": "code",
   "outputs": [],
   "execution_count": null,
   "source": "",
   "id": "39dce6adf12dda74"
  }
 ],
 "metadata": {
  "kernelspec": {
   "display_name": "Python 3",
   "language": "python",
   "name": "python3"
  },
  "language_info": {
   "codemirror_mode": {
    "name": "ipython",
    "version": 2
   },
   "file_extension": ".py",
   "mimetype": "text/x-python",
   "name": "python",
   "nbconvert_exporter": "python",
   "pygments_lexer": "ipython2",
   "version": "2.7.6"
  }
 },
 "nbformat": 4,
 "nbformat_minor": 5
}
