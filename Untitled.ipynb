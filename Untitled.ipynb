{
 "cells": [
  {
   "cell_type": "code",
   "execution_count": 2,
   "id": "13e08cac-c7c2-4c3a-8f6e-79ab069ccc73",
   "metadata": {},
   "outputs": [],
   "source": [
    "import pandas as pd\n",
    "import polars as pl"
   ]
  },
  {
   "cell_type": "code",
   "execution_count": 3,
   "id": "dbdc302a-eec8-4f3e-ba88-9b0bfa1b5c3b",
   "metadata": {},
   "outputs": [],
   "source": [
    "dfpd = pd.read_parquet('yellow_tripdata_2020-01.parquet')"
   ]
  },
  {
   "cell_type": "code",
   "execution_count": 4,
   "id": "d311b8df-fe07-43d0-9b86-2039b7d4c1cb",
   "metadata": {},
   "outputs": [],
   "source": [
    "dfpl = pl.read_parquet('yellow_tripdata_2020-01.parquet')"
   ]
  },
  {
   "cell_type": "code",
   "execution_count": 5,
   "id": "c3e0f912-f51b-4348-b14b-52b5a31ac2ee",
   "metadata": {},
   "outputs": [
    {
     "data": {
      "text/html": [
       "<div><style>\n",
       ".dataframe > thead > tr,\n",
       ".dataframe > tbody > tr {\n",
       "  text-align: right;\n",
       "  white-space: pre-wrap;\n",
       "}\n",
       "</style>\n",
       "<small>shape: (6_405_008, 19)</small><table border=\"1\" class=\"dataframe\"><thead><tr><th>VendorID</th><th>tpep_pickup_datetime</th><th>tpep_dropoff_datetime</th><th>passenger_count</th><th>trip_distance</th><th>RatecodeID</th><th>store_and_fwd_flag</th><th>PULocationID</th><th>DOLocationID</th><th>payment_type</th><th>fare_amount</th><th>extra</th><th>mta_tax</th><th>tip_amount</th><th>tolls_amount</th><th>improvement_surcharge</th><th>total_amount</th><th>congestion_surcharge</th><th>airport_fee</th></tr><tr><td>i64</td><td>datetime[ns]</td><td>datetime[ns]</td><td>f64</td><td>f64</td><td>f64</td><td>str</td><td>i64</td><td>i64</td><td>i64</td><td>f64</td><td>f64</td><td>f64</td><td>f64</td><td>f64</td><td>f64</td><td>f64</td><td>f64</td><td>null</td></tr></thead><tbody><tr><td>1</td><td>2020-01-01 00:28:15</td><td>2020-01-01 00:33:03</td><td>1.0</td><td>1.2</td><td>1.0</td><td>&quot;N&quot;</td><td>238</td><td>239</td><td>1</td><td>6.0</td><td>3.0</td><td>0.5</td><td>1.47</td><td>0.0</td><td>0.3</td><td>11.27</td><td>2.5</td><td>null</td></tr><tr><td>1</td><td>2020-01-01 00:35:39</td><td>2020-01-01 00:43:04</td><td>1.0</td><td>1.2</td><td>1.0</td><td>&quot;N&quot;</td><td>239</td><td>238</td><td>1</td><td>7.0</td><td>3.0</td><td>0.5</td><td>1.5</td><td>0.0</td><td>0.3</td><td>12.3</td><td>2.5</td><td>null</td></tr><tr><td>1</td><td>2020-01-01 00:47:41</td><td>2020-01-01 00:53:52</td><td>1.0</td><td>0.6</td><td>1.0</td><td>&quot;N&quot;</td><td>238</td><td>238</td><td>1</td><td>6.0</td><td>3.0</td><td>0.5</td><td>1.0</td><td>0.0</td><td>0.3</td><td>10.8</td><td>2.5</td><td>null</td></tr><tr><td>1</td><td>2020-01-01 00:55:23</td><td>2020-01-01 01:00:14</td><td>1.0</td><td>0.8</td><td>1.0</td><td>&quot;N&quot;</td><td>238</td><td>151</td><td>1</td><td>5.5</td><td>0.5</td><td>0.5</td><td>1.36</td><td>0.0</td><td>0.3</td><td>8.16</td><td>0.0</td><td>null</td></tr><tr><td>2</td><td>2020-01-01 00:01:58</td><td>2020-01-01 00:04:16</td><td>1.0</td><td>0.0</td><td>1.0</td><td>&quot;N&quot;</td><td>193</td><td>193</td><td>2</td><td>3.5</td><td>0.5</td><td>0.5</td><td>0.0</td><td>0.0</td><td>0.3</td><td>4.8</td><td>0.0</td><td>null</td></tr><tr><td>&hellip;</td><td>&hellip;</td><td>&hellip;</td><td>&hellip;</td><td>&hellip;</td><td>&hellip;</td><td>&hellip;</td><td>&hellip;</td><td>&hellip;</td><td>&hellip;</td><td>&hellip;</td><td>&hellip;</td><td>&hellip;</td><td>&hellip;</td><td>&hellip;</td><td>&hellip;</td><td>&hellip;</td><td>&hellip;</td><td>&hellip;</td></tr><tr><td>2</td><td>2020-01-31 23:08:00</td><td>2020-01-31 23:34:00</td><td>null</td><td>12.07</td><td>null</td><td>null</td><td>191</td><td>35</td><td>0</td><td>52.18</td><td>2.75</td><td>0.5</td><td>0.0</td><td>0.0</td><td>0.3</td><td>55.73</td><td>null</td><td>null</td></tr><tr><td>2</td><td>2020-01-31 23:00:00</td><td>2020-01-31 23:44:00</td><td>null</td><td>23.48</td><td>null</td><td>null</td><td>186</td><td>117</td><td>0</td><td>54.01</td><td>2.75</td><td>0.5</td><td>0.0</td><td>6.12</td><td>0.3</td><td>63.68</td><td>null</td><td>null</td></tr><tr><td>2</td><td>2020-01-31 23:13:00</td><td>2020-01-31 23:38:00</td><td>null</td><td>12.09</td><td>null</td><td>null</td><td>164</td><td>131</td><td>0</td><td>38.02</td><td>2.75</td><td>0.5</td><td>0.0</td><td>6.12</td><td>0.3</td><td>47.69</td><td>null</td><td>null</td></tr><tr><td>2</td><td>2020-01-31 23:02:54</td><td>2020-01-31 23:27:10</td><td>null</td><td>11.65</td><td>null</td><td>null</td><td>10</td><td>16</td><td>0</td><td>28.74</td><td>2.75</td><td>0.0</td><td>0.0</td><td>0.0</td><td>0.3</td><td>31.79</td><td>null</td><td>null</td></tr><tr><td>2</td><td>2020-01-31 23:56:37</td><td>2020-02-01 00:16:35</td><td>null</td><td>8.54</td><td>null</td><td>null</td><td>247</td><td>81</td><td>0</td><td>31.31</td><td>2.75</td><td>0.0</td><td>0.0</td><td>0.0</td><td>0.3</td><td>34.36</td><td>null</td><td>null</td></tr></tbody></table></div>"
      ],
      "text/plain": [
       "shape: (6_405_008, 19)\n",
       "┌──────────┬───────────┬───────────┬───────────┬───┬───────────┬───────────┬───────────┬───────────┐\n",
       "│ VendorID ┆ tpep_pick ┆ tpep_drop ┆ passenger ┆ … ┆ improveme ┆ total_amo ┆ congestio ┆ airport_f │\n",
       "│ ---      ┆ up_dateti ┆ off_datet ┆ _count    ┆   ┆ nt_surcha ┆ unt       ┆ n_surchar ┆ ee        │\n",
       "│ i64      ┆ me        ┆ ime       ┆ ---       ┆   ┆ rge       ┆ ---       ┆ ge        ┆ ---       │\n",
       "│          ┆ ---       ┆ ---       ┆ f64       ┆   ┆ ---       ┆ f64       ┆ ---       ┆ null      │\n",
       "│          ┆ datetime[ ┆ datetime[ ┆           ┆   ┆ f64       ┆           ┆ f64       ┆           │\n",
       "│          ┆ ns]       ┆ ns]       ┆           ┆   ┆           ┆           ┆           ┆           │\n",
       "╞══════════╪═══════════╪═══════════╪═══════════╪═══╪═══════════╪═══════════╪═══════════╪═══════════╡\n",
       "│ 1        ┆ 2020-01-0 ┆ 2020-01-0 ┆ 1.0       ┆ … ┆ 0.3       ┆ 11.27     ┆ 2.5       ┆ null      │\n",
       "│          ┆ 1         ┆ 1         ┆           ┆   ┆           ┆           ┆           ┆           │\n",
       "│          ┆ 00:28:15  ┆ 00:33:03  ┆           ┆   ┆           ┆           ┆           ┆           │\n",
       "│ 1        ┆ 2020-01-0 ┆ 2020-01-0 ┆ 1.0       ┆ … ┆ 0.3       ┆ 12.3      ┆ 2.5       ┆ null      │\n",
       "│          ┆ 1         ┆ 1         ┆           ┆   ┆           ┆           ┆           ┆           │\n",
       "│          ┆ 00:35:39  ┆ 00:43:04  ┆           ┆   ┆           ┆           ┆           ┆           │\n",
       "│ 1        ┆ 2020-01-0 ┆ 2020-01-0 ┆ 1.0       ┆ … ┆ 0.3       ┆ 10.8      ┆ 2.5       ┆ null      │\n",
       "│          ┆ 1         ┆ 1         ┆           ┆   ┆           ┆           ┆           ┆           │\n",
       "│          ┆ 00:47:41  ┆ 00:53:52  ┆           ┆   ┆           ┆           ┆           ┆           │\n",
       "│ 1        ┆ 2020-01-0 ┆ 2020-01-0 ┆ 1.0       ┆ … ┆ 0.3       ┆ 8.16      ┆ 0.0       ┆ null      │\n",
       "│          ┆ 1         ┆ 1         ┆           ┆   ┆           ┆           ┆           ┆           │\n",
       "│          ┆ 00:55:23  ┆ 01:00:14  ┆           ┆   ┆           ┆           ┆           ┆           │\n",
       "│ 2        ┆ 2020-01-0 ┆ 2020-01-0 ┆ 1.0       ┆ … ┆ 0.3       ┆ 4.8       ┆ 0.0       ┆ null      │\n",
       "│          ┆ 1         ┆ 1         ┆           ┆   ┆           ┆           ┆           ┆           │\n",
       "│          ┆ 00:01:58  ┆ 00:04:16  ┆           ┆   ┆           ┆           ┆           ┆           │\n",
       "│ …        ┆ …         ┆ …         ┆ …         ┆ … ┆ …         ┆ …         ┆ …         ┆ …         │\n",
       "│ 2        ┆ 2020-01-3 ┆ 2020-01-3 ┆ null      ┆ … ┆ 0.3       ┆ 55.73     ┆ null      ┆ null      │\n",
       "│          ┆ 1         ┆ 1         ┆           ┆   ┆           ┆           ┆           ┆           │\n",
       "│          ┆ 23:08:00  ┆ 23:34:00  ┆           ┆   ┆           ┆           ┆           ┆           │\n",
       "│ 2        ┆ 2020-01-3 ┆ 2020-01-3 ┆ null      ┆ … ┆ 0.3       ┆ 63.68     ┆ null      ┆ null      │\n",
       "│          ┆ 1         ┆ 1         ┆           ┆   ┆           ┆           ┆           ┆           │\n",
       "│          ┆ 23:00:00  ┆ 23:44:00  ┆           ┆   ┆           ┆           ┆           ┆           │\n",
       "│ 2        ┆ 2020-01-3 ┆ 2020-01-3 ┆ null      ┆ … ┆ 0.3       ┆ 47.69     ┆ null      ┆ null      │\n",
       "│          ┆ 1         ┆ 1         ┆           ┆   ┆           ┆           ┆           ┆           │\n",
       "│          ┆ 23:13:00  ┆ 23:38:00  ┆           ┆   ┆           ┆           ┆           ┆           │\n",
       "│ 2        ┆ 2020-01-3 ┆ 2020-01-3 ┆ null      ┆ … ┆ 0.3       ┆ 31.79     ┆ null      ┆ null      │\n",
       "│          ┆ 1         ┆ 1         ┆           ┆   ┆           ┆           ┆           ┆           │\n",
       "│          ┆ 23:02:54  ┆ 23:27:10  ┆           ┆   ┆           ┆           ┆           ┆           │\n",
       "│ 2        ┆ 2020-01-3 ┆ 2020-02-0 ┆ null      ┆ … ┆ 0.3       ┆ 34.36     ┆ null      ┆ null      │\n",
       "│          ┆ 1         ┆ 1         ┆           ┆   ┆           ┆           ┆           ┆           │\n",
       "│          ┆ 23:56:37  ┆ 00:16:35  ┆           ┆   ┆           ┆           ┆           ┆           │\n",
       "└──────────┴───────────┴───────────┴───────────┴───┴───────────┴───────────┴───────────┴───────────┘"
      ]
     },
     "execution_count": 5,
     "metadata": {},
     "output_type": "execute_result"
    }
   ],
   "source": [
    "dfpl"
   ]
  },
  {
   "cell_type": "code",
   "execution_count": 6,
   "id": "019936bd-33f2-406f-bf0b-24f22199a393",
   "metadata": {},
   "outputs": [],
   "source": [
    "def missing_data(df):\n",
    "    missing_summary = {}\n",
    "\n",
    "    if isinstance(df, pd.DataFrame):\n",
    "        total_rows = len(df)\n",
    "        for column in df.columns:\n",
    "            missing_percentage = df[column].isna().sum() / len(dfpd[column]) * 100\n",
    "            column_dtype = df[column].dtype\n",
    "            missing_summary[column] = (missing_percentage, str(column_dtype))\n",
    "\n",
    "    elif isinstance(df, pl.DataFrame):\n",
    "        total_rows = df.height\n",
    "        for column in df.columns:\n",
    "            missing_percentage = df[column].null_count() / total_rows * 100\n",
    "            column_dtype = df[column].dtype\n",
    "            missing_summary[column] = (missing_percentage, str(column_dtype))\n",
    "\n",
    "    return missing_summary"
   ]
  },
  {
   "cell_type": "code",
   "execution_count": 7,
   "id": "6f557f0e-1b46-43ec-a52c-ca7372e68ffe",
   "metadata": {},
   "outputs": [],
   "source": [
    "data_pd = dfpd\n",
    "data_pl = dfpl"
   ]
  },
  {
   "cell_type": "code",
   "execution_count": 8,
   "id": "0c4ceb9a-39e3-4245-a60c-a16aaf9e2bf2",
   "metadata": {},
   "outputs": [],
   "source": [
    "summary_pd = missing_data(data_pd)\n",
    "summary_pl = missing_data(data_pl)"
   ]
  },
  {
   "cell_type": "code",
   "execution_count": 9,
   "id": "539ae03a-0c4f-45b8-8f27-03399dc9a3c4",
   "metadata": {},
   "outputs": [
    {
     "name": "stdout",
     "output_type": "stream",
     "text": [
      "{'VendorID': (0.0, 'Int64'), 'tpep_pickup_datetime': (0.0, \"Datetime(time_unit='ns', time_zone=None)\"), 'tpep_dropoff_datetime': (0.0, \"Datetime(time_unit='ns', time_zone=None)\"), 'passenger_count': (1.021716132126611, 'Float64'), 'trip_distance': (0.0, 'Float64'), 'RatecodeID': (1.021716132126611, 'Float64'), 'store_and_fwd_flag': (1.021716132126611, 'String'), 'PULocationID': (0.0, 'Int64'), 'DOLocationID': (0.0, 'Int64'), 'payment_type': (0.0, 'Int64'), 'fare_amount': (0.0, 'Float64'), 'extra': (0.0, 'Float64'), 'mta_tax': (0.0, 'Float64'), 'tip_amount': (0.0, 'Float64'), 'tolls_amount': (0.0, 'Float64'), 'improvement_surcharge': (0.0, 'Float64'), 'total_amount': (0.0, 'Float64'), 'congestion_surcharge': (1.021716132126611, 'Float64'), 'airport_fee': (100.0, 'Null')}\n"
     ]
    }
   ],
   "source": [
    "print(summary_pl)"
   ]
  },
  {
   "cell_type": "code",
   "execution_count": 10,
   "id": "ac3f2fbf-eb40-4c7e-ae79-f21f7f71ca05",
   "metadata": {},
   "outputs": [
    {
     "name": "stdout",
     "output_type": "stream",
     "text": [
      "{'VendorID': (0.0, 'int64'), 'tpep_pickup_datetime': (0.0, 'datetime64[us]'), 'tpep_dropoff_datetime': (0.0, 'datetime64[us]'), 'passenger_count': (1.021716132126611, 'float64'), 'trip_distance': (0.0, 'float64'), 'RatecodeID': (1.021716132126611, 'float64'), 'store_and_fwd_flag': (1.021716132126611, 'object'), 'PULocationID': (0.0, 'int64'), 'DOLocationID': (0.0, 'int64'), 'payment_type': (0.0, 'int64'), 'fare_amount': (0.0, 'float64'), 'extra': (0.0, 'float64'), 'mta_tax': (0.0, 'float64'), 'tip_amount': (0.0, 'float64'), 'tolls_amount': (0.0, 'float64'), 'improvement_surcharge': (0.0, 'float64'), 'total_amount': (0.0, 'float64'), 'congestion_surcharge': (1.021716132126611, 'float64'), 'airport_fee': (100.0, 'object')}\n"
     ]
    }
   ],
   "source": [
    "print(summary_pd)"
   ]
  },
  {
   "cell_type": "code",
   "execution_count": 12,
   "id": "5f8bb0ff-77ed-451d-bd95-ee858468aff8",
   "metadata": {},
   "outputs": [
    {
     "name": "stdout",
     "output_type": "stream",
     "text": [
      "VendorID                       0\n",
      "tpep_pickup_datetime           0\n",
      "tpep_dropoff_datetime          0\n",
      "passenger_count            65441\n",
      "trip_distance                  0\n",
      "RatecodeID                 65441\n",
      "store_and_fwd_flag         65441\n",
      "PULocationID                   0\n",
      "DOLocationID                   0\n",
      "payment_type                   0\n",
      "fare_amount                    0\n",
      "extra                          0\n",
      "mta_tax                        0\n",
      "tip_amount                     0\n",
      "tolls_amount                   0\n",
      "improvement_surcharge          0\n",
      "total_amount                   0\n",
      "congestion_surcharge       65441\n",
      "airport_fee              6405008\n",
      "dtype: int64\n"
     ]
    }
   ],
   "source": [
    "print(dfpd.isna().sum())"
   ]
  },
  {
   "cell_type": "code",
   "execution_count": null,
   "id": "86e5aaa4",
   "metadata": {},
   "outputs": [],
   "source": []
  }
 ],
 "metadata": {
  "kernelspec": {
   "display_name": "base",
   "language": "python",
   "name": "python3"
  },
  "language_info": {
   "codemirror_mode": {
    "name": "ipython",
    "version": 3
   },
   "file_extension": ".py",
   "mimetype": "text/x-python",
   "name": "python",
   "nbconvert_exporter": "python",
   "pygments_lexer": "ipython3",
   "version": "3.12.4"
  }
 },
 "nbformat": 4,
 "nbformat_minor": 5
}
